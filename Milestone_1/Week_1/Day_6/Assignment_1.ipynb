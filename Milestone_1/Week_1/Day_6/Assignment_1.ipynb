{
  "cells": [
    {
      "cell_type": "code",
      "source": [
        "from google.colab import drive\n",
        "drive.mount('/content/drive')\n",
        "file_path = '/content/drive/My Drive/infosys_internship_2025/US_Accidents.csv'\n"
      ],
      "metadata": {
        "colab": {
          "base_uri": "https://localhost:8080/"
        },
        "id": "gYp1DYZA15-9",
        "outputId": "996553eb-225a-4eac-b318-aaeedb782bd4"
      },
      "id": "gYp1DYZA15-9",
      "execution_count": 4,
      "outputs": [
        {
          "output_type": "stream",
          "name": "stdout",
          "text": [
            "Drive already mounted at /content/drive; to attempt to forcibly remount, call drive.mount(\"/content/drive\", force_remount=True).\n"
          ]
        }
      ]
    },
    {
      "cell_type": "code",
      "source": [
        "import pandas as pd\n",
        "\n",
        "# Select only required columns\n",
        "cols = ['City', 'State', 'Weather_Condition', 'Start_Time', 'End_Time', 'Severity']\n",
        "df = pd.read_csv(file_path, usecols=cols, nrows=100000)\n",
        "\n",
        "print(df.head())\n",
        "print(df.info())\n"
      ],
      "metadata": {
        "colab": {
          "base_uri": "https://localhost:8080/"
        },
        "id": "94rmydqA3N51",
        "outputId": "7dc1a57a-adf9-4012-f841-5df7a0cf11ed"
      },
      "id": "94rmydqA3N51",
      "execution_count": 5,
      "outputs": [
        {
          "output_type": "stream",
          "name": "stdout",
          "text": [
            "   Severity           Start_Time             End_Time          City State  \\\n",
            "0         3  2016-02-08 05:46:00  2016-02-08 11:00:00        Dayton    OH   \n",
            "1         2  2016-02-08 06:07:59  2016-02-08 06:37:59  Reynoldsburg    OH   \n",
            "2         2  2016-02-08 06:49:27  2016-02-08 07:19:27  Williamsburg    OH   \n",
            "3         3  2016-02-08 07:23:34  2016-02-08 07:53:34        Dayton    OH   \n",
            "4         2  2016-02-08 07:39:07  2016-02-08 08:09:07        Dayton    OH   \n",
            "\n",
            "  Weather_Condition  \n",
            "0        Light Rain  \n",
            "1        Light Rain  \n",
            "2          Overcast  \n",
            "3     Mostly Cloudy  \n",
            "4     Mostly Cloudy  \n",
            "<class 'pandas.core.frame.DataFrame'>\n",
            "RangeIndex: 100000 entries, 0 to 99999\n",
            "Data columns (total 6 columns):\n",
            " #   Column             Non-Null Count   Dtype \n",
            "---  ------             --------------   ----- \n",
            " 0   Severity           100000 non-null  int64 \n",
            " 1   Start_Time         100000 non-null  object\n",
            " 2   End_Time           100000 non-null  object\n",
            " 3   City               99999 non-null   object\n",
            " 4   State              100000 non-null  object\n",
            " 5   Weather_Condition  98396 non-null   object\n",
            "dtypes: int64(1), object(5)\n",
            "memory usage: 4.6+ MB\n",
            "None\n"
          ]
        }
      ]
    },
    {
      "cell_type": "markdown",
      "id": "b72bc8e5",
      "metadata": {
        "id": "b72bc8e5"
      },
      "source": [
        "### Assignment-1"
      ]
    },
    {
      "cell_type": "markdown",
      "id": "4a1848d0",
      "metadata": {
        "id": "4a1848d0"
      },
      "source": [
        "1. How many unique values are there in categorical columns like `City`, `State`, and `Weather_Condition`? Which category is the most frequent in each?"
      ]
    },
    {
      "cell_type": "code",
      "execution_count": 6,
      "id": "c32ea46c",
      "metadata": {
        "vscode": {
          "languageId": "plaintext"
        },
        "colab": {
          "base_uri": "https://localhost:8080/"
        },
        "id": "c32ea46c",
        "outputId": "60470999-2f7b-4abc-ec8c-80b76db41844"
      },
      "outputs": [
        {
          "output_type": "stream",
          "name": "stdout",
          "text": [
            "City:\n",
            "  Unique Values = 785\n",
            "  Most Frequent = Los Angeles (appears 9792 times)\n",
            "\n",
            "State:\n",
            "  Unique Values = 3\n",
            "  Most Frequent = CA (appears 99272 times)\n",
            "\n",
            "Weather_Condition:\n",
            "  Unique Values = 43\n",
            "  Most Frequent = Clear (appears 57255 times)\n",
            "\n"
          ]
        }
      ],
      "source": [
        "categorical_cols = ['City', 'State', 'Weather_Condition']\n",
        "\n",
        "for col in categorical_cols:\n",
        "    unique_count = df[col].nunique()\n",
        "    most_freq = df[col].mode()[0]     # mode()[0] = most common value\n",
        "    most_freq_count = df[col].value_counts().iloc[0]  # frequency of that value\n",
        "    print(f\"{col}:\")\n",
        "    print(f\"  Unique Values = {unique_count}\")\n",
        "    print(f\"  Most Frequent = {most_freq} (appears {most_freq_count} times)\\n\")"
      ]
    },
    {
      "cell_type": "markdown",
      "id": "4e7ec556",
      "metadata": {
        "id": "4e7ec556"
      },
      "source": [
        "2. Calculate the percentage of missing values in each column and list columns with more than 5% missing data."
      ]
    },
    {
      "cell_type": "code",
      "execution_count": 7,
      "id": "ceb88a2a",
      "metadata": {
        "vscode": {
          "languageId": "plaintext"
        },
        "colab": {
          "base_uri": "https://localhost:8080/"
        },
        "id": "ceb88a2a",
        "outputId": "e9063fde-5f81-4276-dad6-82b8c60ca6ba"
      },
      "outputs": [
        {
          "output_type": "stream",
          "name": "stdout",
          "text": [
            "Missing Values (%):\n",
            "Severity             0.000\n",
            "Start_Time           0.000\n",
            "End_Time             0.000\n",
            "City                 0.001\n",
            "State                0.000\n",
            "Weather_Condition    1.604\n",
            "dtype: float64\n",
            "\n",
            "Columns with more than 5% missing values:\n",
            "Series([], dtype: float64)\n"
          ]
        }
      ],
      "source": [
        "missing_percent = (df.isnull().sum() / len(df)) * 100\n",
        "\n",
        "print(\"Missing Values (%):\")\n",
        "print(missing_percent)\n",
        "\n",
        "# Columns with > 5% missing values\n",
        "print(\"\\nColumns with more than 5% missing values:\")\n",
        "print(missing_percent[missing_percent > 5])"
      ]
    },
    {
      "cell_type": "markdown",
      "id": "7dab9b53",
      "metadata": {
        "id": "7dab9b53"
      },
      "source": [
        "3. Convert `Start_Time` and `End_Time` columns to datetime objects. Find the range (earliest and latest) of accident start times in the dataset."
      ]
    },
    {
      "cell_type": "code",
      "execution_count": 8,
      "id": "accb8a38",
      "metadata": {
        "vscode": {
          "languageId": "plaintext"
        },
        "colab": {
          "base_uri": "https://localhost:8080/"
        },
        "id": "accb8a38",
        "outputId": "dcef5de2-09b5-4fb5-f931-d887b3beecc5"
      },
      "outputs": [
        {
          "output_type": "stream",
          "name": "stdout",
          "text": [
            "Earliest Accident Start Time: 2016-02-08 05:46:00\n",
            "Latest Accident Start Time: 2017-01-26 20:07:03\n"
          ]
        }
      ],
      "source": [
        "df['Start_Time'] = pd.to_datetime(df['Start_Time'])\n",
        "df['End_Time'] = pd.to_datetime(df['End_Time'])\n",
        "\n",
        "# Find the range of accident start times\n",
        "earliest_start = df['Start_Time'].min()\n",
        "latest_start = df['Start_Time'].max()\n",
        "\n",
        "print(\"Earliest Accident Start Time:\", earliest_start)\n",
        "print(\"Latest Accident Start Time:\", latest_start)"
      ]
    },
    {
      "cell_type": "markdown",
      "id": "16b841ec",
      "metadata": {
        "id": "16b841ec"
      },
      "source": [
        "4. Identify any duplicate records in the dataset based on all columns. How many duplicates exist and how will you handle them?"
      ]
    },
    {
      "cell_type": "code",
      "execution_count": 9,
      "id": "6fde2c9b",
      "metadata": {
        "vscode": {
          "languageId": "plaintext"
        },
        "colab": {
          "base_uri": "https://localhost:8080/",
          "height": 294
        },
        "id": "6fde2c9b",
        "outputId": "8bdbf316-ed80-46a9-d43e-f3acb6eada13"
      },
      "outputs": [
        {
          "output_type": "stream",
          "name": "stdout",
          "text": [
            "Number of duplicate records: 35\n",
            "\n",
            "Example duplicate rows:\n"
          ]
        },
        {
          "output_type": "display_data",
          "data": {
            "text/plain": [
              "       Severity          Start_Time            End_Time          City State  \\\n",
              "704           2 2016-03-17 11:10:37 2016-03-17 13:29:20        Dayton    OH   \n",
              "4023          3 2016-07-24 08:09:03 2016-07-24 15:21:00       Oakland    CA   \n",
              "17910         2 2016-11-21 07:02:28 2016-11-21 07:32:02  Saint Helena    CA   \n",
              "20679         3 2016-09-17 14:14:04 2016-09-17 15:14:04    Sacramento    CA   \n",
              "27591         3 2016-08-17 09:14:48 2016-08-17 09:59:48      San Jose    CA   \n",
              "\n",
              "      Weather_Condition  \n",
              "704       Partly Cloudy  \n",
              "4023              Clear  \n",
              "17910               Fog  \n",
              "20679             Clear  \n",
              "27591              Haze  "
            ],
            "text/html": [
              "\n",
              "  <div id=\"df-906a2126-9b50-41da-9ba4-899abfa5e2fa\" class=\"colab-df-container\">\n",
              "    <div>\n",
              "<style scoped>\n",
              "    .dataframe tbody tr th:only-of-type {\n",
              "        vertical-align: middle;\n",
              "    }\n",
              "\n",
              "    .dataframe tbody tr th {\n",
              "        vertical-align: top;\n",
              "    }\n",
              "\n",
              "    .dataframe thead th {\n",
              "        text-align: right;\n",
              "    }\n",
              "</style>\n",
              "<table border=\"1\" class=\"dataframe\">\n",
              "  <thead>\n",
              "    <tr style=\"text-align: right;\">\n",
              "      <th></th>\n",
              "      <th>Severity</th>\n",
              "      <th>Start_Time</th>\n",
              "      <th>End_Time</th>\n",
              "      <th>City</th>\n",
              "      <th>State</th>\n",
              "      <th>Weather_Condition</th>\n",
              "    </tr>\n",
              "  </thead>\n",
              "  <tbody>\n",
              "    <tr>\n",
              "      <th>704</th>\n",
              "      <td>2</td>\n",
              "      <td>2016-03-17 11:10:37</td>\n",
              "      <td>2016-03-17 13:29:20</td>\n",
              "      <td>Dayton</td>\n",
              "      <td>OH</td>\n",
              "      <td>Partly Cloudy</td>\n",
              "    </tr>\n",
              "    <tr>\n",
              "      <th>4023</th>\n",
              "      <td>3</td>\n",
              "      <td>2016-07-24 08:09:03</td>\n",
              "      <td>2016-07-24 15:21:00</td>\n",
              "      <td>Oakland</td>\n",
              "      <td>CA</td>\n",
              "      <td>Clear</td>\n",
              "    </tr>\n",
              "    <tr>\n",
              "      <th>17910</th>\n",
              "      <td>2</td>\n",
              "      <td>2016-11-21 07:02:28</td>\n",
              "      <td>2016-11-21 07:32:02</td>\n",
              "      <td>Saint Helena</td>\n",
              "      <td>CA</td>\n",
              "      <td>Fog</td>\n",
              "    </tr>\n",
              "    <tr>\n",
              "      <th>20679</th>\n",
              "      <td>3</td>\n",
              "      <td>2016-09-17 14:14:04</td>\n",
              "      <td>2016-09-17 15:14:04</td>\n",
              "      <td>Sacramento</td>\n",
              "      <td>CA</td>\n",
              "      <td>Clear</td>\n",
              "    </tr>\n",
              "    <tr>\n",
              "      <th>27591</th>\n",
              "      <td>3</td>\n",
              "      <td>2016-08-17 09:14:48</td>\n",
              "      <td>2016-08-17 09:59:48</td>\n",
              "      <td>San Jose</td>\n",
              "      <td>CA</td>\n",
              "      <td>Haze</td>\n",
              "    </tr>\n",
              "  </tbody>\n",
              "</table>\n",
              "</div>\n",
              "    <div class=\"colab-df-buttons\">\n",
              "\n",
              "  <div class=\"colab-df-container\">\n",
              "    <button class=\"colab-df-convert\" onclick=\"convertToInteractive('df-906a2126-9b50-41da-9ba4-899abfa5e2fa')\"\n",
              "            title=\"Convert this dataframe to an interactive table.\"\n",
              "            style=\"display:none;\">\n",
              "\n",
              "  <svg xmlns=\"http://www.w3.org/2000/svg\" height=\"24px\" viewBox=\"0 -960 960 960\">\n",
              "    <path d=\"M120-120v-720h720v720H120Zm60-500h600v-160H180v160Zm220 220h160v-160H400v160Zm0 220h160v-160H400v160ZM180-400h160v-160H180v160Zm440 0h160v-160H620v160ZM180-180h160v-160H180v160Zm440 0h160v-160H620v160Z\"/>\n",
              "  </svg>\n",
              "    </button>\n",
              "\n",
              "  <style>\n",
              "    .colab-df-container {\n",
              "      display:flex;\n",
              "      gap: 12px;\n",
              "    }\n",
              "\n",
              "    .colab-df-convert {\n",
              "      background-color: #E8F0FE;\n",
              "      border: none;\n",
              "      border-radius: 50%;\n",
              "      cursor: pointer;\n",
              "      display: none;\n",
              "      fill: #1967D2;\n",
              "      height: 32px;\n",
              "      padding: 0 0 0 0;\n",
              "      width: 32px;\n",
              "    }\n",
              "\n",
              "    .colab-df-convert:hover {\n",
              "      background-color: #E2EBFA;\n",
              "      box-shadow: 0px 1px 2px rgba(60, 64, 67, 0.3), 0px 1px 3px 1px rgba(60, 64, 67, 0.15);\n",
              "      fill: #174EA6;\n",
              "    }\n",
              "\n",
              "    .colab-df-buttons div {\n",
              "      margin-bottom: 4px;\n",
              "    }\n",
              "\n",
              "    [theme=dark] .colab-df-convert {\n",
              "      background-color: #3B4455;\n",
              "      fill: #D2E3FC;\n",
              "    }\n",
              "\n",
              "    [theme=dark] .colab-df-convert:hover {\n",
              "      background-color: #434B5C;\n",
              "      box-shadow: 0px 1px 3px 1px rgba(0, 0, 0, 0.15);\n",
              "      filter: drop-shadow(0px 1px 2px rgba(0, 0, 0, 0.3));\n",
              "      fill: #FFFFFF;\n",
              "    }\n",
              "  </style>\n",
              "\n",
              "    <script>\n",
              "      const buttonEl =\n",
              "        document.querySelector('#df-906a2126-9b50-41da-9ba4-899abfa5e2fa button.colab-df-convert');\n",
              "      buttonEl.style.display =\n",
              "        google.colab.kernel.accessAllowed ? 'block' : 'none';\n",
              "\n",
              "      async function convertToInteractive(key) {\n",
              "        const element = document.querySelector('#df-906a2126-9b50-41da-9ba4-899abfa5e2fa');\n",
              "        const dataTable =\n",
              "          await google.colab.kernel.invokeFunction('convertToInteractive',\n",
              "                                                    [key], {});\n",
              "        if (!dataTable) return;\n",
              "\n",
              "        const docLinkHtml = 'Like what you see? Visit the ' +\n",
              "          '<a target=\"_blank\" href=https://colab.research.google.com/notebooks/data_table.ipynb>data table notebook</a>'\n",
              "          + ' to learn more about interactive tables.';\n",
              "        element.innerHTML = '';\n",
              "        dataTable['output_type'] = 'display_data';\n",
              "        await google.colab.output.renderOutput(dataTable, element);\n",
              "        const docLink = document.createElement('div');\n",
              "        docLink.innerHTML = docLinkHtml;\n",
              "        element.appendChild(docLink);\n",
              "      }\n",
              "    </script>\n",
              "  </div>\n",
              "\n",
              "\n",
              "    <div id=\"df-7e68a9c8-e897-4fc2-a553-98dc9727323a\">\n",
              "      <button class=\"colab-df-quickchart\" onclick=\"quickchart('df-7e68a9c8-e897-4fc2-a553-98dc9727323a')\"\n",
              "                title=\"Suggest charts\"\n",
              "                style=\"display:none;\">\n",
              "\n",
              "<svg xmlns=\"http://www.w3.org/2000/svg\" height=\"24px\"viewBox=\"0 0 24 24\"\n",
              "     width=\"24px\">\n",
              "    <g>\n",
              "        <path d=\"M19 3H5c-1.1 0-2 .9-2 2v14c0 1.1.9 2 2 2h14c1.1 0 2-.9 2-2V5c0-1.1-.9-2-2-2zM9 17H7v-7h2v7zm4 0h-2V7h2v10zm4 0h-2v-4h2v4z\"/>\n",
              "    </g>\n",
              "</svg>\n",
              "      </button>\n",
              "\n",
              "<style>\n",
              "  .colab-df-quickchart {\n",
              "      --bg-color: #E8F0FE;\n",
              "      --fill-color: #1967D2;\n",
              "      --hover-bg-color: #E2EBFA;\n",
              "      --hover-fill-color: #174EA6;\n",
              "      --disabled-fill-color: #AAA;\n",
              "      --disabled-bg-color: #DDD;\n",
              "  }\n",
              "\n",
              "  [theme=dark] .colab-df-quickchart {\n",
              "      --bg-color: #3B4455;\n",
              "      --fill-color: #D2E3FC;\n",
              "      --hover-bg-color: #434B5C;\n",
              "      --hover-fill-color: #FFFFFF;\n",
              "      --disabled-bg-color: #3B4455;\n",
              "      --disabled-fill-color: #666;\n",
              "  }\n",
              "\n",
              "  .colab-df-quickchart {\n",
              "    background-color: var(--bg-color);\n",
              "    border: none;\n",
              "    border-radius: 50%;\n",
              "    cursor: pointer;\n",
              "    display: none;\n",
              "    fill: var(--fill-color);\n",
              "    height: 32px;\n",
              "    padding: 0;\n",
              "    width: 32px;\n",
              "  }\n",
              "\n",
              "  .colab-df-quickchart:hover {\n",
              "    background-color: var(--hover-bg-color);\n",
              "    box-shadow: 0 1px 2px rgba(60, 64, 67, 0.3), 0 1px 3px 1px rgba(60, 64, 67, 0.15);\n",
              "    fill: var(--button-hover-fill-color);\n",
              "  }\n",
              "\n",
              "  .colab-df-quickchart-complete:disabled,\n",
              "  .colab-df-quickchart-complete:disabled:hover {\n",
              "    background-color: var(--disabled-bg-color);\n",
              "    fill: var(--disabled-fill-color);\n",
              "    box-shadow: none;\n",
              "  }\n",
              "\n",
              "  .colab-df-spinner {\n",
              "    border: 2px solid var(--fill-color);\n",
              "    border-color: transparent;\n",
              "    border-bottom-color: var(--fill-color);\n",
              "    animation:\n",
              "      spin 1s steps(1) infinite;\n",
              "  }\n",
              "\n",
              "  @keyframes spin {\n",
              "    0% {\n",
              "      border-color: transparent;\n",
              "      border-bottom-color: var(--fill-color);\n",
              "      border-left-color: var(--fill-color);\n",
              "    }\n",
              "    20% {\n",
              "      border-color: transparent;\n",
              "      border-left-color: var(--fill-color);\n",
              "      border-top-color: var(--fill-color);\n",
              "    }\n",
              "    30% {\n",
              "      border-color: transparent;\n",
              "      border-left-color: var(--fill-color);\n",
              "      border-top-color: var(--fill-color);\n",
              "      border-right-color: var(--fill-color);\n",
              "    }\n",
              "    40% {\n",
              "      border-color: transparent;\n",
              "      border-right-color: var(--fill-color);\n",
              "      border-top-color: var(--fill-color);\n",
              "    }\n",
              "    60% {\n",
              "      border-color: transparent;\n",
              "      border-right-color: var(--fill-color);\n",
              "    }\n",
              "    80% {\n",
              "      border-color: transparent;\n",
              "      border-right-color: var(--fill-color);\n",
              "      border-bottom-color: var(--fill-color);\n",
              "    }\n",
              "    90% {\n",
              "      border-color: transparent;\n",
              "      border-bottom-color: var(--fill-color);\n",
              "    }\n",
              "  }\n",
              "</style>\n",
              "\n",
              "      <script>\n",
              "        async function quickchart(key) {\n",
              "          const quickchartButtonEl =\n",
              "            document.querySelector('#' + key + ' button');\n",
              "          quickchartButtonEl.disabled = true;  // To prevent multiple clicks.\n",
              "          quickchartButtonEl.classList.add('colab-df-spinner');\n",
              "          try {\n",
              "            const charts = await google.colab.kernel.invokeFunction(\n",
              "                'suggestCharts', [key], {});\n",
              "          } catch (error) {\n",
              "            console.error('Error during call to suggestCharts:', error);\n",
              "          }\n",
              "          quickchartButtonEl.classList.remove('colab-df-spinner');\n",
              "          quickchartButtonEl.classList.add('colab-df-quickchart-complete');\n",
              "        }\n",
              "        (() => {\n",
              "          let quickchartButtonEl =\n",
              "            document.querySelector('#df-7e68a9c8-e897-4fc2-a553-98dc9727323a button');\n",
              "          quickchartButtonEl.style.display =\n",
              "            google.colab.kernel.accessAllowed ? 'block' : 'none';\n",
              "        })();\n",
              "      </script>\n",
              "    </div>\n",
              "\n",
              "    </div>\n",
              "  </div>\n"
            ],
            "application/vnd.google.colaboratory.intrinsic+json": {
              "type": "dataframe",
              "summary": "{\n  \"name\": \"    print(f\\\"\\\\nDataset shape after removing duplicates: {df\",\n  \"rows\": 5,\n  \"fields\": [\n    {\n      \"column\": \"Severity\",\n      \"properties\": {\n        \"dtype\": \"number\",\n        \"std\": 0,\n        \"min\": 2,\n        \"max\": 3,\n        \"num_unique_values\": 2,\n        \"samples\": [\n          3,\n          2\n        ],\n        \"semantic_type\": \"\",\n        \"description\": \"\"\n      }\n    },\n    {\n      \"column\": \"Start_Time\",\n      \"properties\": {\n        \"dtype\": \"date\",\n        \"min\": \"2016-03-17 11:10:37\",\n        \"max\": \"2016-11-21 07:02:28\",\n        \"num_unique_values\": 5,\n        \"samples\": [\n          \"2016-07-24 08:09:03\",\n          \"2016-08-17 09:14:48\"\n        ],\n        \"semantic_type\": \"\",\n        \"description\": \"\"\n      }\n    },\n    {\n      \"column\": \"End_Time\",\n      \"properties\": {\n        \"dtype\": \"date\",\n        \"min\": \"2016-03-17 13:29:20\",\n        \"max\": \"2016-11-21 07:32:02\",\n        \"num_unique_values\": 5,\n        \"samples\": [\n          \"2016-07-24 15:21:00\",\n          \"2016-08-17 09:59:48\"\n        ],\n        \"semantic_type\": \"\",\n        \"description\": \"\"\n      }\n    },\n    {\n      \"column\": \"City\",\n      \"properties\": {\n        \"dtype\": \"string\",\n        \"num_unique_values\": 5,\n        \"samples\": [\n          \"Oakland\",\n          \"San Jose\"\n        ],\n        \"semantic_type\": \"\",\n        \"description\": \"\"\n      }\n    },\n    {\n      \"column\": \"State\",\n      \"properties\": {\n        \"dtype\": \"category\",\n        \"num_unique_values\": 2,\n        \"samples\": [\n          \"CA\",\n          \"OH\"\n        ],\n        \"semantic_type\": \"\",\n        \"description\": \"\"\n      }\n    },\n    {\n      \"column\": \"Weather_Condition\",\n      \"properties\": {\n        \"dtype\": \"string\",\n        \"num_unique_values\": 4,\n        \"samples\": [\n          \"Clear\",\n          \"Haze\"\n        ],\n        \"semantic_type\": \"\",\n        \"description\": \"\"\n      }\n    }\n  ]\n}"
            }
          },
          "metadata": {}
        },
        {
          "output_type": "stream",
          "name": "stdout",
          "text": [
            "\n",
            "Dataset shape after removing duplicates: (99965, 6)\n"
          ]
        }
      ],
      "source": [
        "duplicates = df.duplicated()  # Boolean Series (True = duplicate row)\n",
        "num_duplicates = duplicates.sum()\n",
        "\n",
        "print(f\"Number of duplicate records: {num_duplicates}\")\n",
        "\n",
        "# Show a few duplicate rows (if any)\n",
        "if num_duplicates > 0:\n",
        "    print(\"\\nExample duplicate rows:\")\n",
        "    display(df[duplicates].head())\n",
        "\n",
        "    # Handling duplicates → Remove them\n",
        "    df = df.drop_duplicates()\n",
        "    print(f\"\\nDataset shape after removing duplicates: {df.shape}\")"
      ]
    },
    {
      "cell_type": "markdown",
      "id": "0e1b9654",
      "metadata": {
        "id": "0e1b9654"
      },
      "source": [
        "5. Explore the distribution of accident severity (Severity column). What percentage of accidents belong to each severity level? Visualize this distribution with a pie chart."
      ]
    },
    {
      "cell_type": "code",
      "execution_count": 12,
      "id": "0fc06851",
      "metadata": {
        "vscode": {
          "languageId": "plaintext"
        },
        "colab": {
          "base_uri": "https://localhost:8080/",
          "height": 663
        },
        "id": "0fc06851",
        "outputId": "5ce74f0d-4080-4263-f21d-e51e5426bdf9"
      },
      "outputs": [
        {
          "output_type": "stream",
          "name": "stdout",
          "text": [
            "Percentage of accidents by severity level:\n",
            "\n",
            "Severity\n",
            "2    55.03\n",
            "3    44.84\n",
            "1     0.10\n",
            "4     0.03\n",
            "Name: proportion, dtype: float64\n"
          ]
        },
        {
          "output_type": "display_data",
          "data": {
            "text/plain": [
              "<Figure size 600x600 with 1 Axes>"
            ],
            "image/png": "[encoded data removed]"
          },
          "metadata": {}
        }
      ],
      "source": [
        "import matplotlib.pyplot as plt\n",
        "\n",
        "# Q5: Percentage distribution of accident severity\n",
        "severity_counts = df['Severity'].value_counts(normalize=True) * 100\n",
        "print(\"Percentage of accidents by severity level:\\n\")\n",
        "print(severity_counts.round(2))   # rounded to 2 decimals\n",
        "\n",
        "# Pie chart\n",
        "plt.figure(figsize=(6,6))\n",
        "plt.pie(severity_counts,\n",
        "        labels=[f\"Severity {i}\" for i in severity_counts.index],\n",
        "        autopct='%1.1f%%',\n",
        "        startangle=90,\n",
        "        colors=['#66b3ff','#99ff99','#ffcc99','#ff9999'])\n",
        "plt.title(\"Distribution of Accident Severity\")\n",
        "plt.show()\n",
        "\n"
      ]
    }
  ],
  "metadata": {
    "language_info": {
      "name": "python"
    },
    "colab": {
      "provenance": []
    },
    "kernelspec": {
      "name": "python3",
      "display_name": "Python 3"
    }
  },
  "nbformat": 4,
  "nbformat_minor": 5
}